{
 "cells": [
  {
   "cell_type": "markdown",
   "metadata": {},
   "source": [
    "# Assignment 1-1: Web Scraping"
   ]
  },
  {
   "cell_type": "markdown",
   "metadata": {},
   "source": [
    "## Objective"
   ]
  },
  {
   "cell_type": "markdown",
   "metadata": {},
   "source": [
    "Data scientists often need to crawl data from websites and turn the crawled data (HTML pages) to structured data (tables). Thus, web scraping is an essential skill that every data scientist should master. In this assignment, you will learn the followings:\n",
    "\n",
    "\n",
    "* How to download HTML pages from a website?\n",
    "* How to extract relevant content from an HTML page? \n",
    "\n",
    "Furthermore, you will gain a deeper understanding of the data science lifecycle.\n",
    "\n",
    "**Requirements:**\n",
    "\n",
    "1. Please use [pandas.DataFrame](http://pandas.pydata.org/pandas-docs/stable/generated/pandas.DataFrame.html) rather than spark.DataFrame to manipulate data.\n",
    "\n",
    "2. Please use [BeautifulSoup](https://www.crummy.com/software/BeautifulSoup/) rather than [lxml](http://lxml.de/) to parse an HTML page and extract data from the page.\n",
    "\n",
    "3. Please follow the python code style (https://www.python.org/dev/peps/pep-0008/). If TA finds your code hard to read, you will lose points. This requirement will stay for the whole semester."
   ]
  },
  {
   "cell_type": "markdown",
   "metadata": {},
   "source": [
    "## Preliminary"
   ]
  },
  {
   "cell_type": "markdown",
   "metadata": {},
   "source": [
    "If this is your first time to write a web scraper, you need to learn some basic knowledge of this topic. I found that this is a good resource: [Tutorial: Web Scraping and BeautifulSoup](https://www.dataquest.io/blog/web-scraping-beautifulsoup/). \n",
    "\n",
    "Please let me know if you find a better resource. I'll share it with the other students."
   ]
  },
  {
   "cell_type": "markdown",
   "metadata": {},
   "source": [
    "## Overview"
   ]
  },
  {
   "cell_type": "markdown",
   "metadata": {},
   "source": [
    "Imagine you are a data scientist working at SFU. Your job is to extract insights from SFU data to answer questions. \n",
    "\n",
    "In this assignment, you will do two tasks. Please recall the high-level data science lifecycle below. I suggest that when doing this assignment, please remind yourself of what data you collected and what questions you tried to answer.\n",
    "\n",
    "\n",
    "<img src=\"lifecycle.png\" width=\"500\">\n",
    "<center><h4>Figure 1. Data Science Lifecycle</h4></center>"
   ]
  },
  {
   "cell_type": "markdown",
   "metadata": {},
   "source": [
    "## Task 1: SFU CS Faculty Members"
   ]
  },
  {
   "cell_type": "markdown",
   "metadata": {},
   "source": [
    "Sometimes you don't know what questions to ask. No worries. Start collecting data first. \n",
    "\n",
    "In Task 1, your job is to write a web scraper to extract the faculty information from this page: [http://www.sfu.ca/computing/people/faculty.html](http://www.sfu.ca/computing/people/faculty.html).\n",
    "\n",
    "\n"
   ]
  },
  {
   "cell_type": "markdown",
   "metadata": {},
   "source": [
    "### (a) Crawl Web Page"
   ]
  },
  {
   "cell_type": "markdown",
   "metadata": {},
   "source": [
    "A web page is essentially a file stored in a remote machine (called web server). Please write code to download the HTML page and save it as a text file (\"csfaculty.html\")."
   ]
  },
  {
   "cell_type": "code",
   "execution_count": 2,
   "metadata": {},
   "outputs": [],
   "source": [
    "# Import Statements\n",
    "import requests\n",
    "import pandas as pd\n",
    "from bs4 import BeautifulSoup\n",
    "import re\n",
    "\n",
    "#  Downloading Web page\n",
    "web_url = \"http://www.sfu.ca/computing/people/faculty.html\"\n",
    "downloaded_page = requests.get(web_url) \n",
    "\n",
    "# Saving the webpage as .html file\n",
    "file_obj = open('csfaculty.html', 'wb')\n",
    "file_obj.write(downloaded_page.content)\n",
    "file_obj.close()"
   ]
  },
  {
   "cell_type": "markdown",
   "metadata": {},
   "source": [
    "### (b) Extract Structured Data"
   ]
  },
  {
   "cell_type": "markdown",
   "metadata": {},
   "source": [
    "Please write code to extract relevant content (name, rank, area, profile, homepage) from \"csfaculty.html\" and save them as a CSV file (like [faculty_table.csv](./faculty_table.csv)). "
   ]
  },
  {
   "cell_type": "code",
   "execution_count": 4,
   "metadata": {},
   "outputs": [],
   "source": [
    "# Creating data frame to store parsed values\n",
    "faculty_dataframe = pd.DataFrame(columns=['name', 'rank', 'area', 'profile', 'homepage'])\n",
    "\n",
    "# Additional Variables\n",
    "faculty_row_value = {}\n",
    "profile_url_prefix = \"http://www.sfu.ca\"\n",
    "\n",
    "# Extracting Relevant Content\n",
    "with open('csfaculty.html', 'r') as page:\n",
    "    content = page.read()\n",
    "    soup = BeautifulSoup(content, 'html.parser')\n",
    "    \n",
    "    faculty_list = soup.find_all('div', attrs = {'class':'textimage section'})\n",
    "    \n",
    "    # Looping through each elements in the faculty list \n",
    "    for value in faculty_list:\n",
    "        \n",
    "        faculty_obj = value.find('div',  attrs = {'class':'text'})\n",
    "        faculty_header = faculty_obj.h4.text.split(',')\n",
    "        \n",
    "        # Extracting Name and Rank of the Professor\n",
    "        faculty_row_value['name'] = faculty_header[0].strip().title()\n",
    "        faculty_row_value['rank'] = faculty_header[1].split('\\n')[0].strip().title()\n",
    "\n",
    "        faculty_detail = faculty_obj.find_all('p')\n",
    "        record_length = len(faculty_detail)\n",
    "        \n",
    "        # Extracting Area of the Professor\n",
    "        if record_length > 0 and faculty_detail[0] is not None:\n",
    "            faculty_row_value['area'] = faculty_detail[0].text.split(':')[1].strip()\n",
    "        else:\n",
    "            faculty_row_value['area'] = None\n",
    "        \n",
    "        # Extracting Profile Link of the Professor\n",
    "        if record_length > 0 and faculty_detail[1] is not None:\n",
    "            faculty_row_value['profile'] = profile_url_prefix + faculty_detail[1].a['href'].replace(profile_url_prefix, \"\")\n",
    "        else:\n",
    "            faculty_row_value['profile'] = None\n",
    "            \n",
    "        # Extracting Home Page of the Professor\n",
    "        faculty_homepage = faculty_detail[1].find_all('a') if record_length > 0 else []\n",
    "\n",
    "        if len(faculty_homepage) >= 2:\n",
    "                \n",
    "            homepage_value = faculty_homepage[1].get('href')\n",
    "                \n",
    "            if homepage_value is not None and not homepage_value.startswith(\"http\"):\n",
    "                faculty_row_value['homepage'] = profile_url_prefix + homepage_value\n",
    "            else:\n",
    "                faculty_row_value['homepage'] = homepage_value\n",
    "                    \n",
    "        else:\n",
    "            faculty_row_value['homepage'] = None\n",
    "        \n",
    "        # Appending the record as a row to the data frame     \n",
    "        faculty_dataframe = faculty_dataframe.append(faculty_row_value, ignore_index=True) \n",
    "\n",
    "# Writing the Structured data to csv format\n",
    "faculty_dataframe.to_csv('faculty_table.csv', index=False)"
   ]
  },
  {
   "cell_type": "markdown",
   "metadata": {},
   "source": [
    "### (c) Interesting Finding"
   ]
  },
  {
   "cell_type": "markdown",
   "metadata": {},
   "source": [
    "Note that you don't need to do anything for Task 1(c). The purpose of this part is to give you some sense about how to leverage exploratory data analysis (EDA) to come up with interesting questions about the data. EDA is an important topic in data science; you will  learn it soon from this course. \n",
    "\n",
    "\n",
    "First, please install [dataprep](http://dataprep.ai).\n",
    "Then, run the cell below. \n",
    "It shows a bar chart for every column. What interesting findings can you get from these visualizations? "
   ]
  },
  {
   "cell_type": "code",
   "execution_count": null,
   "metadata": {
    "scrolled": true
   },
   "outputs": [],
   "source": [
    "from dataprep.eda import plot\n",
    "import pandas as pd\n",
    "\n",
    "df = pd.read_csv(\"faculty_table.csv\")\n",
    "plot(df)"
   ]
  },
  {
   "cell_type": "markdown",
   "metadata": {},
   "source": [
    "Below are some examples:\n",
    "\n",
    "**Finding 1:** Professor# (26) is more than 2x larger than Associate Professor# (10). \n",
    "\n",
    "**Questions:** Why did it happen? Is it common in all CS schools in Canada? Will the gap go larger or smaller in five years? What actions can be taken to enlarge/shrink the gap?\n",
    "\n",
    "\n",
    "**Finding 2:** The Homepage has 22% missing values. \n",
    "\n",
    "**Questions:** Why are there so many missing values? Is it because many faculty do not have their own homepages or do not add their homepages to the school page? What actions can be taken to avoid this to happen in the future? "
   ]
  },
  {
   "cell_type": "markdown",
   "metadata": {},
   "source": [
    "## Task 2: Age Follows Normal Distribution?"
   ]
  },
  {
   "cell_type": "markdown",
   "metadata": {},
   "source": [
    "In this task, you start with a question and then figure out what data to collect.\n",
    "\n",
    "The question that you are interested in is `Does SFU CS faculty age follow a normal distribution?`\n",
    "\n",
    "To estimate the age of a faculty member, you can collect the year in which s/he graduates from a university (`gradyear`) and then estimate `age` using the following equation:\n",
    "\n",
    "$$age \\approx 2021+23 - gradyear$$\n",
    "\n",
    "For example, if one graduates from a university in 1990, then the age is estimated as 2021+23-1990 = 54. \n",
    "\n"
   ]
  },
  {
   "cell_type": "markdown",
   "metadata": {},
   "source": [
    "### (a) Crawl Web Page"
   ]
  },
  {
   "cell_type": "markdown",
   "metadata": {},
   "source": [
    "You notice that faculty profile pages contain graduation information. For example, you can see that Dr. Jiannan Wang graduated from Harbin Institute of Technology in 2008 at [http://www.sfu.ca/computing/people/faculty/jiannanwang.html](http://www.sfu.ca/computing/people/faculty/jiannanwang.html). \n",
    "\n",
    "\n",
    "Please write code to download the 65 profile pages and save each page as a text file. "
   ]
  },
  {
   "cell_type": "code",
   "execution_count": 5,
   "metadata": {},
   "outputs": [],
   "source": [
    "file_obj = None\n",
    "faculty_df = pd.read_csv('faculty_table.csv')\n",
    "profile_df = faculty_df[['name', 'profile']]\n",
    "page_list = []\n",
    "\n",
    "# Downloading and Saving each pages as text file\n",
    "for row in profile_df.itertuples(index = False):\n",
    "    file_name = row[0].replace(\" \", \"-\") + \".txt\"\n",
    "    if not pd.isnull(row[1]):\n",
    "        profile_page = requests.get(row[1]) \n",
    "        file_obj = open(file_name, 'wb')\n",
    "        file_obj.write(profile_page.content)\n",
    "        page_list.append(file_name)\n",
    "        \n",
    "file_obj.close()"
   ]
  },
  {
   "cell_type": "markdown",
   "metadata": {},
   "source": [
    "### (b) Extract Structured Data"
   ]
  },
  {
   "cell_type": "markdown",
   "metadata": {},
   "source": [
    "Please write code to extract the earliest graduation year (e.g., 2008 for Dr. Jiannan Wang) from each profile page, and create a csv file like [faculty_grad_year.csv](./faculty_grad_year.csv). "
   ]
  },
  {
   "cell_type": "code",
   "execution_count": 12,
   "metadata": {},
   "outputs": [],
   "source": [
    "# Additional Variables\n",
    "faculty_grad_df = pd.DataFrame(columns=['name', 'gradyear'])\n",
    "grad_info = {'name': None, 'gradyear': None}\n",
    "\n",
    "education_section = None\n",
    "prof_details= None\n",
    "\n",
    "# Additional Methods\n",
    "def extract_year(list_tag):\n",
    "    edu_list = list_tag.find_all('li')\n",
    "    year_value = []\n",
    "    \n",
    "    for education in edu_list:\n",
    "        year = re.findall(r'\\d+', education.text)\n",
    "        for i in year:\n",
    "            year_value.append(i)\n",
    "            \n",
    "    if len(year_value) > 0:\n",
    "        grad_info['gradyear'] = min(map(int, year_value))\n",
    "        \n",
    "def get_text_section(prof_section):\n",
    "    return prof_section.find_all('div', class_ = \"text parbase section\")\n",
    "\n",
    "# Extracting the Earliest graduation year\n",
    "for pro_page in page_list:\n",
    "    content = open(pro_page,'r',encoding=\"utf-8\").read()\n",
    "    soup = BeautifulSoup(content, 'html.parser')\n",
    "    \n",
    "    # Extracting the Professor Name\n",
    "    name_tag = soup.find('div',  attrs = {'class':'title section'})\n",
    "    grad_info['name'] = name_tag.div.h1.text.strip().title()\n",
    "    \n",
    "    # Extracting the Graduation year\n",
    "    prof_details = soup.find('div',  attrs = {'class':'parsys_column cq-colctrl-lt0-c0'})\n",
    "    if prof_details is not None: \n",
    "        education_section = get_text_section(prof_details)\n",
    "        list_tag = None\n",
    "        \n",
    "        if len(education_section) > 1:\n",
    "            list_tag = education_section[1].div.ul\n",
    "        \n",
    "        if list_tag is not None:\n",
    "            extract_year(list_tag)\n",
    "          \n",
    "    # Case 2\n",
    "    prof_details = soup.find('div',  attrs = {'class':'parsys_column cq-colctrl-lt0-c1'})\n",
    "    if prof_details is not None:\n",
    "        education_section = get_text_section(prof_details)\n",
    "        list_tag = education_section[0].div.ul\n",
    "        \n",
    "        if list_tag is not None:\n",
    "            extract_year(list_tag)\n",
    "            \n",
    "        else:\n",
    "            list_tag = education_section[0].div.p\n",
    "            if list_tag is not None and grad_info['gradyear'] is None:\n",
    "                year_list = re.findall(r'\\d+', list_tag.text)\n",
    "                \n",
    "                if len(year_list) > 0:\n",
    "                    grad_info['gradyear'] = min(map(int, year_list))\n",
    "\n",
    "    # Case 3\n",
    "    prof_details = soup.find('div',  attrs = {'class':'parsys_column cq-colctrl-lt4-c1'})\n",
    "    if prof_details is not None: \n",
    "        education_section = get_text_section(prof_details)\n",
    "        list_tag = education_section[0].div.ul\n",
    "        extract_year(list_tag)\n",
    "      \n",
    "    # Appending the extracted values to data frame\n",
    "    faculty_grad_df = faculty_grad_df.append(grad_info, ignore_index=True)\n",
    "    grad_info['name'], grad_info['gradyear'] = None, None\n",
    "\n",
    "# Saving the data frame as csv file\n",
    "faculty_grad_df.to_csv('faculty_grad_year.csv', index = True)"
   ]
  },
  {
   "cell_type": "markdown",
   "metadata": {},
   "source": [
    "### (c) Interesting Finding"
   ]
  },
  {
   "cell_type": "markdown",
   "metadata": {},
   "source": [
    "Similar to Task 1(c), you don't need to do anything here. Just look at different visualizations w.r.t. age and give yourself an answer to the question: `Does SFU CS faculty age follow a normal distribution?`"
   ]
  },
  {
   "cell_type": "code",
   "execution_count": null,
   "metadata": {
    "scrolled": true
   },
   "outputs": [],
   "source": [
    "from dataprep.eda import plot\n",
    "import pandas as pd\n",
    "\n",
    "df = pd.read_csv(\"faculty_grad_year.csv\")\n",
    "df[\"age\"] = 2021+23-df[\"gradyear\"]\n",
    "\n",
    "plot(df, \"age\")"
   ]
  },
  {
   "cell_type": "markdown",
   "metadata": {},
   "source": [
    "## Submission"
   ]
  },
  {
   "cell_type": "markdown",
   "metadata": {},
   "source": [
    "Complete the code in this notebook, and submit it to the CourSys activity `Assignment 1`."
   ]
  },
  {
   "cell_type": "markdown",
   "metadata": {},
   "source": [
    "## Bonus: Contribute to DataPrep"
   ]
  },
  {
   "cell_type": "markdown",
   "metadata": {},
   "source": [
    "**Total Bonus: 0.2 + 0.3 = 0.5**\n",
    "\n",
    "1. If you create an issue (i.e., report a bug or request a feature) at [link1](https://github.com/sfu-db/dataprep/issues), you will get **0.2** bonus points.\n",
    "\n",
    "2.  Creating more issues will *not* give you more bonus points, but you are encouraged to do so for learning more.\n",
    "\n",
    "2. If you send a pull request (i.e., fix a bug or implement a feature) at [link1](https://github.com/sfu-db/dataprep/pulls) and the pull request gets merged into the repo, you will get **0.3** bonus points. \n",
    "\n",
    "4.  Sending more pull requests will *not* give you more bonus points, but you are encouraged to do so for learning more.\n",
    "\n",
    "5. These bonus points will be directly added to your final grade.\n",
    "\n",
    "\n",
    "\n",
    "\n",
    "\n",
    "\n",
    "**How to Submit**\n",
    "* Submit github link(s) to the CourSys activity `Bonus`.\n",
    "* Due on `March 13, 2022`\n",
    "\n",
    "If you love dataprep, please support it by simply clicking the **<span style=\"color:red\">Star</span>** on [Github](https://github.com/sfu-db/dataprep).\n",
    "<img src=\"dataprep-star-2022.png\" width=\"1000\">"
   ]
  }
 ],
 "metadata": {
  "kernelspec": {
   "display_name": "Python 3 (ipykernel)",
   "language": "python",
   "name": "python3"
  },
  "language_info": {
   "codemirror_mode": {
    "name": "ipython",
    "version": 3
   },
   "file_extension": ".py",
   "mimetype": "text/x-python",
   "name": "python",
   "nbconvert_exporter": "python",
   "pygments_lexer": "ipython3",
   "version": "3.7.11"
  }
 },
 "nbformat": 4,
 "nbformat_minor": 1
}
