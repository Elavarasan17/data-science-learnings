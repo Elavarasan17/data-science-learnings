{
 "cells": [
  {
   "cell_type": "markdown",
   "metadata": {},
   "source": [
    "# Assignment 1-2: Data Collection Using Web APIs"
   ]
  },
  {
   "cell_type": "markdown",
   "metadata": {},
   "source": [
    "## Objective"
   ]
  },
  {
   "cell_type": "markdown",
   "metadata": {},
   "source": [
    "Many Websites (such as Twitter, Yelp, Spotify) provide free APIs to allow users to access their data. *API wrappers* simplify the use of these APIs by wrapping API calls into easy-to-use Python functions. At SFU, we are developing a unified API wrapper, called [DataPrep.Connector](https://docs.dataprep.ai/user_guide/connector/introduction.html#userguide-connector), which offers a unified programming interface to collect data from a variety of Web APIs.\n",
    "\n",
    "In this assignment, you will learn the following:\n",
    "\n",
    "* How to ask insightful questions about data\n",
    "* How to collect data from Web APIs using DataPrep.Connector\n",
    "\n",
    "**Requirements:**\n",
    "\n",
    "1. Please use [pandas.DataFrame](http://pandas.pydata.org/pandas-docs/stable/generated/pandas.DataFrame.html) rather than spark.DataFrame to manipulate data.\n",
    "\n",
    "2. Please follow the python code style (https://www.python.org/dev/peps/pep-0008/). If TA finds your code hard to read, you will lose points. This requirement will stay for the whole semester."
   ]
  },
  {
   "cell_type": "markdown",
   "metadata": {},
   "source": [
    "## Preliminary"
   ]
  },
  {
   "cell_type": "markdown",
   "metadata": {},
   "source": [
    "DataPrep.Connector is very easy to learn. By watching this 10-min [PyData Global 2020 talk](https://www.youtube.com/watch?v=56qu-0Ka-dA), you should be able to know how to use it. \n",
    "\n",
    "If you want to know more, below are some other useful resources.\n",
    "\n",
    "* [Quick Introduction](https://github.com/sfu-db/dataprep#connector)\n",
    "* [User Guide](https://sfu-db.github.io/dataprep/user_guide/connector/connector.html) \n",
    "* [Examples](https://github.com/sfu-db/dataprep/tree/develop/examples)\n",
    "* [Fetch and analyze COVID-19 tweets using DataPrep](https://www.youtube.com/watch?v=vvypQB3Vp1o)"
   ]
  },
  {
   "cell_type": "markdown",
   "metadata": {},
   "source": [
    "## Overview"
   ]
  },
  {
   "cell_type": "markdown",
   "metadata": {},
   "source": [
    "This is a **group** assignment. Please check your group in this [PDF file](https://coursys.sfu.ca/2022sp-cmpt-733-g1/pages/Web-API-Assignment/view).\n",
    "\n",
    "To do this assignment, your group needs to go through four steps:\n",
    "\n",
    "1. Select a new Web API that is not listed on https://github.com/sfu-db/APIConnectors. \n",
    "2. Create a configuration file for the API (see tutorials at [link1](https://github.com/sfu-db/APIConnectors/blob/develop/CONTRIBUTING.md#add-configuration-files) and [link2](https://github.com/sfu-db/EZHacks-tutorial/blob/master/2.%20Tutorial.ipynb)). \n",
    "3. Come up with four questions about the API. \n",
    "4. Write code to answer these questions one by one.\n",
    "\n",
    "For Step 3, please make sure your questions are **good**."
   ]
  },
  {
   "cell_type": "markdown",
   "metadata": {},
   "source": [
    "## What are \"good questions\"?"
   ]
  },
  {
   "cell_type": "markdown",
   "metadata": {},
   "source": [
    "Please use the following to judge whether your questions are good or not.\n",
    "\n",
    "1. Good questions need to be useful. That is, they are common questions asked about the API.\n",
    "2. Good questions need to be diverse. That is, they cover different aspects of the API. \n",
    "3. Good questions have to cover different difficulty levels. That is, it consists of both easy and difficult questions,  where the difficulty can be measured by the number of lines of code or the number of input parameters.\n",
    "\n",
    "The following shows four good questions about the Yelp API. The corresponding code can be found at this [link](https://github.com/sfu-db/DataConnectorConfigs#yelp----collect-local-business-data)."
   ]
  },
  {
   "cell_type": "markdown",
   "metadata": {},
   "source": [
    "* Q1. What's the phone number of Capilano Suspension Bridge Park?\n",
    "* Q2. Which yoga store has the highest review count in Vancouver?\n",
    "* Q3. How many Starbucks stores are in Seattle and where are they?\n",
    "* Q4. What are the ratings for a list of restaurants?"
   ]
  },
  {
   "cell_type": "markdown",
   "metadata": {},
   "source": [
    "**Why are they useful?**\n",
    "* Q1 is useful because \"Capilano Suspension Bridge Park\" is one of the most popular tourist attractions in Vancouver.\n",
    "* Q2 is useful because a yoga fan wants to find out the most popular yoga store in Vancouver. \n",
    "* Q3 is useful because Starbucks was founded in Seattle.\n",
    "* Q4 is useful because people often rely on yelp ratings to decide which restaurant to go to."
   ]
  },
  {
   "cell_type": "markdown",
   "metadata": {},
   "source": [
    "**Why are they diverse?**\n",
    "\n",
    "This is because the [code](yelp-code.png) written to answer them has different inputs or outputs.\n",
    "* Q1 takes `term` and `location` as input and returns 1 record with attributes `name` and `phone` \n",
    "* Q2 takes `categories`, `location`, and `sort_by` as input and returns 1 record with attributes `name` and `review_count`\n",
    "* Q3 takes `term` and `location` as input and returns n records with attributes `name`, `address`, `city`, `state`, `country`, `zipcode`\n",
    "* Q4 takes a list of retarurant `names` as input and return n records with attributes `name`, `rating`, `city`"
   ]
  },
  {
   "cell_type": "markdown",
   "metadata": {},
   "source": [
    "**Why are they more and more difficult?**\n",
    "* Q1 (4 lines of code, 2 query parameters)\n",
    "* Q2 (4 lines of code, 3 query parameters)\n",
    "* Q3 (5 lines of code, 2 query parameters)\n",
    "* Q4 (11 lines of code, 2 query parameters)"
   ]
  },
  {
   "cell_type": "markdown",
   "metadata": {},
   "source": [
    "Please note that you have to use DataPrep.Connector to get data from the Web API. If DataPrep.Connector cannot meet your needs, please post your questions on Slack (Channel: Assignment 1). We will help you. "
   ]
  },
  {
   "cell_type": "markdown",
   "metadata": {},
   "source": [
    "## Now, it's your turn. :) "
   ]
  },
  {
   "cell_type": "markdown",
   "metadata": {},
   "source": [
    "Please write down your questions and the corresponding code for your assigned API. "
   ]
  },
  {
   "cell_type": "code",
   "execution_count": 1,
   "metadata": {},
   "outputs": [
    {
     "name": "stderr",
     "output_type": "stream",
     "text": [
      "NumExpr defaulting to 4 threads.\n"
     ]
    }
   ],
   "source": [
    "# Import Statements\n",
    "from dataprep.connector import connect\n",
    "from datetime import datetime\n",
    "import matplotlib.pyplot as plt\n",
    "import pandas as pd\n",
    "\n",
    "# Provide your API key here for TAs to reproduce your results\n",
    "API_key = \"8D73AS9T8U2JKXRP\"\n",
    "\n",
    "# Connecting to Web API using dataprep\n",
    "connect_api = connect(\"./config\", _auth={'access_token': API_key}, _concurrency=3)"
   ]
  },
  {
   "cell_type": "markdown",
   "metadata": {},
   "source": [
    "### Q1.  When was the U.S. GDP growing the fastest?"
   ]
  },
  {
   "cell_type": "code",
   "execution_count": 2,
   "metadata": {},
   "outputs": [
    {
     "name": "stdout",
     "output_type": "stream",
     "text": [
      "Year:1942-01-01\n",
      "GDP growth rate: 0.18886579936279713\n"
     ]
    }
   ],
   "source": [
    "# Write your code\n",
    "realgdp_df = await connect_api.query('realgdp',function=\"REAL_GDP\",interval=\"annual\")\n",
    "\n",
    "realgdp_df[\"value\"]=pd.to_numeric(realgdp_df[\"value\"])\n",
    "realgdp_df[\"value\"][0]\n",
    "res=realgdp_df.set_index(\"date\").pct_change(periods=-1)\n",
    "\n",
    "print('Year:' + res.idxmax().item() )\n",
    "print('GDP growth rate:', res[\"value\"].max())"
   ]
  },
  {
   "cell_type": "markdown",
   "metadata": {},
   "source": [
    "### Q2. What is the growth_rate of last 4 years sessions of a given company? (e.g. AMZN)"
   ]
  },
  {
   "cell_type": "code",
   "execution_count": 3,
   "metadata": {},
   "outputs": [
    {
     "name": "stdout",
     "output_type": "stream",
     "text": [
      "   Year  Growth Rate\n",
      "0  2020    42.596161\n",
      "1  2019    38.488023\n",
      "2  2018    23.865661\n",
      "3  2017    57.442268\n"
     ]
    }
   ],
   "source": [
    "# Write your code\n",
    "df = await connect_api.query('balance',function='BALANCE_SHEET',symbol=\"AMZN\")\n",
    "\n",
    "growth_rate_list, year = [],[]\n",
    "company_df = pd.DataFrame(columns=[\"Year\",\"Growth Rate\"])\n",
    "\n",
    "for i in range(0,df.shape[0]-1):\n",
    "    growth_rate_list.append(((float(df['totalAssets'][i]) - float(df['totalAssets'][i+1]))/float(df['totalAssets'][i+1])*100))\n",
    "    year.append(datetime.strptime(df['fiscalDateEnding'][i], \"%Y-%m-%d\").year)\n",
    "\n",
    "company_df['Year'],company_df['Growth Rate'] = year,growth_rate_list\n",
    "print(company_df)"
   ]
  },
  {
   "cell_type": "markdown",
   "metadata": {},
   "source": [
    "### Q3. Between 1948 and 2021 which year had the highest Average Unemployment Rate in the US ?"
   ]
  },
  {
   "cell_type": "code",
   "execution_count": 4,
   "metadata": {},
   "outputs": [
    {
     "name": "stdout",
     "output_type": "stream",
     "text": [
      "      unemployment rate\n",
      "year                   \n",
      "1982           9.708333\n"
     ]
    },
    {
     "data": {
      "image/png": "[encoded data removed]",
      "text/plain": [
       "<Figure size 432x288 with 1 Axes>"
      ]
     },
     "metadata": {
      "needs_background": "light"
     },
     "output_type": "display_data"
    }
   ],
   "source": [
    "# Write your code\n",
    "#Here the unemployment rate represents the number of unemployed as a percentage of the labor force.\n",
    "#using the existing connect_api variable\n",
    "us_unemployment_df = await connect_api.query('unemployment',function='UNEMPLOYMENT') \n",
    "\n",
    "us_unemployment_df[\"unemployment rate\"] = pd.to_numeric(us_unemployment_df[\"value\"])\n",
    "us_unemployment_df = us_unemployment_df.drop(columns=['value'])\n",
    "us_unemployment_df[\"date\"] = pd.to_datetime(us_unemployment_df['date'], format='%Y-%m-%d')\n",
    "us_unemployment_df['year'] = pd.DatetimeIndex(us_unemployment_df['date']).year  \n",
    "\n",
    "yearly_average_unemployment = us_unemployment_df.groupby(['year']).mean()\n",
    "condition = yearly_average_unemployment['unemployment rate'] == yearly_average_unemployment['unemployment rate'].max()\n",
    "\n",
    "yearly_average_unemployment.plot(kind = 'line')\n",
    "print(yearly_average_unemployment[condition])"
   ]
  },
  {
   "cell_type": "markdown",
   "metadata": {},
   "source": [
    "### Q4. What are the 5 years where the inflation was the most and the least in the US"
   ]
  },
  {
   "cell_type": "code",
   "execution_count": 5,
   "metadata": {},
   "outputs": [
    {
     "name": "stdout",
     "output_type": "stream",
     "text": [
      "5 years with lowest inflation rates in US:\n",
      "Year:  2009  Inflation in %:  -0.36\n",
      "Year:  2015  Inflation in %:  0.12\n",
      "Year:  1961  Inflation in %:  1.07\n",
      "Year:  1962  Inflation in %:  1.2\n",
      "Year:  2020  Inflation in %:  1.23\n",
      "\n",
      "5 years with highest inflation rates in US:\n",
      "Year:  1980  Inflation in %:  13.55\n",
      "Year:  1979  Inflation in %:  11.25\n",
      "Year:  1974  Inflation in %:  11.05\n",
      "Year:  1981  Inflation in %:  10.33\n",
      "Year:  1975  Inflation in %:  9.14\n"
     ]
    }
   ],
   "source": [
    "## Write your code\n",
    "\n",
    "# Which 5 years has the most and least inflation in the US\n",
    "inflation_df = await connect_api.query('inflation',function=\"INFLATION\")\n",
    "inflation_df['value'] = pd.to_numeric(inflation_df['value'])\n",
    "\n",
    "# 5 years with lowest inflation rates\n",
    "low_inflation_df = inflation_df.sort_values('value').head(5)\n",
    "print(\"5 years with lowest inflation rates in US:\")\n",
    "for index, year in low_inflation_df.iterrows():\n",
    "    print(\"Year: \", year['date'].split('-')[0], \n",
    "          \" Inflation in %: \", round(year['value'], 2))\n",
    "\n",
    "# 5 years with highest inflation rates\n",
    "high_inflation_df = inflation_df.sort_values('value', ascending=False).head(5)\n",
    "print(\"\\n5 years with highest inflation rates in US:\")\n",
    "for index, year in high_inflation_df.iterrows():\n",
    "    print(\"Year: \", year['date'].split('-')[0], \n",
    "          \" Inflation in %: \", round(year['value'], 2))"
   ]
  },
  {
   "cell_type": "markdown",
   "metadata": {},
   "source": [
    "## Treasury Yield - U.S\n",
    "\n",
    "Treasure Yield is seen as a sign of investor sentiment about the direction of economy and it serves as a vital economic benchmark. The higher the yields on U.S. Treasuries, the more confidence investors have in the economic outlook.\n",
    " \n",
    "## Q5. What are the yield values for pre-covid, covid(2020) and post-covid scenario? Is the economy of US improving?"
   ]
  },
  {
   "cell_type": "code",
   "execution_count": 6,
   "metadata": {},
   "outputs": [
    {
     "name": "stdout",
     "output_type": "stream",
     "text": [
      "TY Value before Covid for US:\n",
      "\n",
      "         value\n",
      "year          \n",
      "2015  2.135833\n",
      "2016  1.841667\n",
      "2017  2.330000\n",
      "2018  2.910000\n",
      "2019  2.144167\n",
      "\n",
      "TY during Covid for US (2020):\n",
      "\n",
      "         value\n",
      "year          \n",
      "2020  0.894167\n",
      "\n",
      "The economy of US is recovering because of the increase in TY index value for 2021:\n",
      "\n",
      "       value\n",
      "year        \n",
      "2021  1.4425\n"
     ]
    }
   ],
   "source": [
    "# Write your Code\n",
    "treasure_yield_df = await connect_api.query(\"treasury\", function=\"TREASURY_YIELD\")\n",
    "\n",
    "treasure_yield_df[\"value\"] = pd.to_numeric(treasure_yield_df[\"value\"])\n",
    "treasure_yield_df[\"date\"] = pd.to_datetime(treasure_yield_df['date'])\n",
    "treasure_yield_df[\"year\"]  = treasure_yield_df[\"date\"].dt.year\n",
    "yearly_ty_value = treasure_yield_df.groupby('year').mean()\n",
    "\n",
    "print(\"TY Value before Covid for US:\\n\")\n",
    "year_range = [i for i in range(2015, 2020)]\n",
    "print(yearly_ty_value[yearly_ty_value.index.isin(year_range)])\n",
    "\n",
    "print(\"\\nTY during Covid for US (2020):\\n\")\n",
    "print(yearly_ty_value[yearly_ty_value.index == 2020])\n",
    "\n",
    "print(\"\\nThe economy of US is recovering because of the increase in TY index value for 2021:\\n\")\n",
    "print(yearly_ty_value[yearly_ty_value.index == 2021])"
   ]
  },
  {
   "cell_type": "markdown",
   "metadata": {},
   "source": [
    "## Submission"
   ]
  },
  {
   "cell_type": "markdown",
   "metadata": {},
   "source": [
    "Complete this notebook, rename it to `A1-2-[WEB API Name].ipynb`, and submit it along with your config files to the CourSys activity `Assignment 1 - Part 2`. For example, if your group works on Yelp, then **every member of your group** needs to submit the same notebook named `A1-2-Yelp.ipynb` and the config files named `config.zip`."
   ]
  }
 ],
 "metadata": {
  "kernelspec": {
   "display_name": "Python 3 (ipykernel)",
   "language": "python",
   "name": "python3"
  },
  "language_info": {
   "codemirror_mode": {
    "name": "ipython",
    "version": 3
   },
   "file_extension": ".py",
   "mimetype": "text/x-python",
   "name": "python",
   "nbconvert_exporter": "python",
   "pygments_lexer": "ipython3",
   "version": "3.7.11"
  }
 },
 "nbformat": 4,
 "nbformat_minor": 4
}
