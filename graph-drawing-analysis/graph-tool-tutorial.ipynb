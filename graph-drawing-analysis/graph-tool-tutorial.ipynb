{
 "cells": [
  {
   "cell_type": "markdown",
   "metadata": {},
   "source": [
    "# Graph-tool tutorial"
   ]
  },
  {
   "cell_type": "markdown",
   "metadata": {},
   "source": [
    "The following tutorial demonstrates working with graphs using the [graph-tool python module](https://graph-tool.skewed.de/). In the process, you will learn how to:\n",
    "\n",
    "* create a simple graphs,\n",
    "* perform basic network analysis,\n",
    "* visualize graphs and their properties.\n",
    "\n",
    "For additional background on the parameters for the drawing routines, see the [graph-tool tutorial](https://stevenbergner.github.io/Teaching/cmpt767/graph-tutorial)"
   ]
  },
  {
   "cell_type": "code",
   "execution_count": 8,
   "metadata": {},
   "outputs": [],
   "source": [
    "import pandas as pd\n",
    "import numpy as np\n",
    "import graph_tools as gt\n",
    "%matplotlib inline\n",
    "# print(\"graph-tool version: {}\".format(gt.__version__.split(' ')[0]))"
   ]
  },
  {
   "cell_type": "markdown",
   "metadata": {},
   "source": [
    "# Show datasets in collection"
   ]
  },
  {
   "cell_type": "code",
   "execution_count": 6,
   "metadata": {},
   "outputs": [
    {
     "ename": "AttributeError",
     "evalue": "module 'graph_tools' has no attribute 'collection'",
     "output_type": "error",
     "traceback": [
      "\u001b[1;31m---------------------------------------------------------------------------\u001b[0m",
      "\u001b[1;31mAttributeError\u001b[0m                            Traceback (most recent call last)",
      "\u001b[1;32m<ipython-input-6-bd603048c0b7>\u001b[0m in \u001b[0;36m<module>\u001b[1;34m\u001b[0m\n\u001b[0;32m      1\u001b[0m \u001b[1;32mwith\u001b[0m \u001b[0mpd\u001b[0m\u001b[1;33m.\u001b[0m\u001b[0moption_context\u001b[0m\u001b[1;33m(\u001b[0m\u001b[1;34m'display.max_colwidth'\u001b[0m\u001b[1;33m,\u001b[0m \u001b[1;33m-\u001b[0m\u001b[1;36m1\u001b[0m\u001b[1;33m)\u001b[0m\u001b[1;33m:\u001b[0m\u001b[1;33m\u001b[0m\u001b[1;33m\u001b[0m\u001b[0m\n\u001b[1;32m----> 2\u001b[1;33m     display(pd.DataFrame.from_records(gt.collection.descriptions,\n\u001b[0m\u001b[0;32m      3\u001b[0m                                       index=['description']).transpose())\n",
      "\u001b[1;31mAttributeError\u001b[0m: module 'graph_tools' has no attribute 'collection'"
     ]
    }
   ],
   "source": [
    "with pd.option_context('display.max_colwidth', -1):\n",
    "    display(pd.DataFrame.from_records(gt.collection.descriptions,\n",
    "                                      index=['description']).transpose())"
   ]
  },
  {
   "cell_type": "code",
   "execution_count": null,
   "metadata": {},
   "outputs": [],
   "source": [
    "g = gt.collection.data['karate']\n",
    "g"
   ]
  },
  {
   "cell_type": "code",
   "execution_count": null,
   "metadata": {},
   "outputs": [],
   "source": [
    "list(g.vp.keys())"
   ]
  },
  {
   "cell_type": "code",
   "execution_count": null,
   "metadata": {},
   "outputs": [],
   "source": [
    "gt.graph_draw(g, pos=g.vp['pos'])"
   ]
  },
  {
   "cell_type": "code",
   "execution_count": null,
   "metadata": {},
   "outputs": [],
   "source": [
    "X_knows = {\n",
    "    'Mary': ['Peter', 'Albert', 'DavidF', 'Peter'],\n",
    "    'Judy': ['Bob', 'Alan'],\n",
    "    'Peter': ['Mary', 'DavidF', 'Jon'],\n",
    "    'DavidF': ['Albert', 'Joseph', 'Peter', 'Mary'],\n",
    "    'Jon': ['Peter', 'Joseph', 'DavidE'],\n",
    "    'DavidE': ['Jon', 'Joseph', 'Albert'],\n",
    "    'Joseph': ['DavidE', 'Jon', 'DavidF'],\n",
    "    'Bob': ['Judy', 'Alan'],\n",
    "    'Alan': ['Bob', 'Mary', 'Judy'],\n",
    "    'Albert': ['DavidF', 'Mary', 'DavidE'],\n",
    "}"
   ]
  },
  {
   "cell_type": "code",
   "execution_count": null,
   "metadata": {},
   "outputs": [],
   "source": [
    "g = gt.Graph(directed=True)"
   ]
  },
  {
   "cell_type": "code",
   "execution_count": null,
   "metadata": {},
   "outputs": [],
   "source": [
    "v_name = g.add_edge_list(((n,k) for n in X_knows for k in X_knows[n]),\n",
    "                         hashed=True)\n",
    "g.vp['name'] = v_name"
   ]
  },
  {
   "cell_type": "code",
   "execution_count": null,
   "metadata": {},
   "outputs": [],
   "source": [
    "pos = gt.arf_layout(g)\n",
    "#pos = gt.planar_layout(g)\n",
    "#pos = gt.fruchterman_reingold_layout(ug)"
   ]
  },
  {
   "cell_type": "code",
   "execution_count": null,
   "metadata": {},
   "outputs": [],
   "source": [
    "gt.graph_draw(\n",
    "    ug,\n",
    "    pos=pos,\n",
    "    vertex_fill_color=\"#dff0ff\",\n",
    "    vertex_text=v_name,\n",
    "    vertex_size=10,\n",
    ")"
   ]
  },
  {
   "cell_type": "code",
   "execution_count": null,
   "metadata": {},
   "outputs": [],
   "source": [
    "#from functools import *\n",
    "#X_names = reduce(lambda a,b: set(a).union(b), X_knows.values()).union(X_knows.keys())"
   ]
  },
  {
   "cell_type": "code",
   "execution_count": null,
   "metadata": {},
   "outputs": [],
   "source": [
    "gt.graphviz_draw(\n",
    "    g,\n",
    "    output=\"output.svg\",\n",
    "    output_format=\"svg\"\n",
    ")"
   ]
  },
  {
   "cell_type": "markdown",
   "metadata": {},
   "source": [
    "![](output.svg)"
   ]
  },
  {
   "cell_type": "markdown",
   "metadata": {},
   "source": [
    "# Create a graph using Python iterations"
   ]
  },
  {
   "cell_type": "markdown",
   "metadata": {},
   "source": [
    "Below is a slow and tedious version of what can be done with a single call to `add_edge_list(...)` on a `Graph`."
   ]
  },
  {
   "cell_type": "code",
   "execution_count": null,
   "metadata": {},
   "outputs": [],
   "source": [
    "# Create edge tuples and list of unique names\n",
    "X_edges = list((n,k) for n in X_knows for k in X_knows[n])\n",
    "from functools import reduce\n",
    "X_names = reduce(lambda a,b: set(a).union(b),\n",
    "                 (X_knows[n] for n in X_knows)\n",
    "                ).union(X_knows.keys())\n",
    "X_names = list(X_names)"
   ]
  },
  {
   "cell_type": "code",
   "execution_count": null,
   "metadata": {},
   "outputs": [],
   "source": [
    "# Construct a 'StringIndexer' to convert strings to integers\n",
    "from sklearn import preprocessing\n",
    "le = preprocessing.LabelEncoder()\n",
    "lem = le.fit(list(X_names))\n",
    "X_edges = list(map(lem.transform, X_edges))"
   ]
  },
  {
   "cell_type": "code",
   "execution_count": null,
   "metadata": {},
   "outputs": [],
   "source": [
    "# Create Graph object and add a string property for names\n",
    "g2 = gt.Graph()\n",
    "v_name = g2.new_vertex_property('string')\n",
    "g2.vertex_properties['name'] = v_name"
   ]
  },
  {
   "cell_type": "code",
   "execution_count": null,
   "metadata": {},
   "outputs": [],
   "source": [
    "for vn in lem.classes_:\n",
    "    v = g2.add_vertex()\n",
    "    v_name[v] = vn"
   ]
  },
  {
   "cell_type": "code",
   "execution_count": null,
   "metadata": {},
   "outputs": [],
   "source": [
    "for f,t in X_edges:\n",
    "    g2.add_edge(f,t)"
   ]
  },
  {
   "cell_type": "code",
   "execution_count": null,
   "metadata": {},
   "outputs": [],
   "source": [
    "g3 = gt.GraphView(g2, directed=False)\n",
    "gt.remove_parallel_edges(g3)\n",
    "gt.graph_draw(g3)"
   ]
  },
  {
   "cell_type": "markdown",
   "metadata": {},
   "source": [
    "# Another graph example\n",
    "From graph-tools [search module](https://graph-tool.skewed.de/static/doc/search_module.html)"
   ]
  },
  {
   "cell_type": "code",
   "execution_count": null,
   "metadata": {},
   "outputs": [],
   "source": [
    "# download the xml source, if missing\n",
    "#!wget https://stevenbergner.github.io/Teaching/cmpt767/search_example.xml\n",
    "\n",
    "g = gt.load_graph(\"search_example.xml\")\n",
    "name = g.vp[\"name\"]\n",
    "weight = g.ep[\"weight\"]\n",
    "pos = g.vp[\"pos\"]\n",
    "gt.graph_draw(g, pos, vertex_text=name, vertex_font_size=12, vertex_shape=\"double_circle\",\n",
    "              vertex_fill_color=\"#729fcf\", vertex_pen_width=1,\n",
    "              edge_pen_width=weight)\n"
   ]
  }
 ],
 "metadata": {
  "kernelspec": {
   "display_name": "tf-gpu-cuda",
   "language": "python",
   "name": "tf-gpu-cuda"
  },
  "language_info": {
   "codemirror_mode": {
    "name": "ipython",
    "version": 3
   },
   "file_extension": ".py",
   "mimetype": "text/x-python",
   "name": "python",
   "nbconvert_exporter": "python",
   "pygments_lexer": "ipython3",
   "version": "3.7.11"
  }
 },
 "nbformat": 4,
 "nbformat_minor": 4
}
