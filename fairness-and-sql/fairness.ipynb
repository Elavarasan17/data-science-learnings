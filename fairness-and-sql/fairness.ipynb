{
 "cells": [
  {
   "cell_type": "markdown",
   "metadata": {},
   "source": [
    "# Assignment 11-1: Fairness in Machine Learning\n",
    "\n",
    "## Objectives\n",
    "\n",
    "In this assignment, you will learn how to use [AI Fairness 360](http://aif360.mybluemix.net/) to detect and repair bias in machine learning. \n",
    "\n",
    "Task 1 is a reading task. It is a tutorial helping you understand the basics of AI Fairness 360. Task 2 is the one that requires you to complete.\n",
    "\n",
    "\n",
    "## Task 1. AI Fairness 360 Tutorial"
   ]
  },
  {
   "cell_type": "markdown",
   "metadata": {},
   "source": [
    "### Biases and Machine Learning\n",
    "A machine learning model makes predictions of an outcome for a particular instance. (Given an instance of a loan application, predict if the applicant will repay the loan.) The model makes these predictions based on a training dataset, where many other instances (other loan applications) and actual outcomes (whether they repaid) are provided. Thus, a machine learning algorithm will attempt to find patterns, or generalizations, in the training dataset to use when a prediction for a new instance is needed. (For example, one pattern it might discover is \"if a person has salary > USD 40K and has outstanding debt < USD 5, they will repay the loan\".) In many domains this technique, called supervised machine learning, has worked very well.\n",
    "\n",
    "However, sometimes the patterns that are found may not be desirable or may even be illegal. For example, a loan repay model may determine that age plays a significant role in the prediction of repayment because the training dataset happened to have better repayment for one age group than for another. This raises two problems: 1) the training dataset may not be representative of the true population of people of all age groups, and 2) even if it is representative, it is illegal to base any decision on a applicant's age, regardless of whether this is a good prediction based on historical data.\n",
    "\n",
    "AI Fairness 360 is designed to help address this problem with *fairness metrics* and *bias mitigators*.  Fairness metrics can be used to check for bias in machine learning workflows.  Bias mitigators can be used to overcome bias in the workflow to produce a more fair outcome. \n",
    "\n",
    "The loan scenario describes an intuitive example of illegal bias. However, not all undesirable bias in machine learning is illegal it may also exist in more subtle ways.  For example, a loan company may want a diverse portfolio of customers across all income levels, and thus, will deem it undesirable if they are making more loans to high income levels over low income levels.  Although this is not illegal or unethical, it is undesirable for the company's strategy.\n",
    "\n",
    "As these two examples illustrate, a bias detection and/or mitigation toolkit needs to be tailored to the particular bias of interest.  More specifically, it needs to know the attribute or attributes, called *protected attributes*, that are of interest: race is one example of a *protected attribute* and age is a second.\n",
    "\n",
    "### The Machine Learning Workflow\n",
    "To understand how bias can enter a machine learning model, we first review the basics of how a model is created in a supervised machine learning process.  \n",
    "\n",
    "\n",
    "\n",
    "![image](ai360.jpeg)\n",
    "\n",
    "\n",
    "\n",
    "\n",
    "\n",
    "\n",
    "\n",
    "\n",
    "First, the process starts with a *training dataset*, which contains a sequence of instances, where each instance has two components: the features and the correct prediction for those features.  Next, a machine learning algorithm is trained on this training dataset to produce a machine learning model.  This generated model can be used to make a prediction when given a new instance.  A second dataset with features and correct predictions, called a *test dataset*, is used to assess the accuracy of the model.\n",
    "Since this test dataset is the same format as the training dataset, a set of instances of features and prediction pairs, often these two datasets derive from the same initial dataset.  A random partitioning algorithm is used to split the initial dataset into training and test datasets.\n",
    "\n",
    "Bias can enter the system in any of the three steps above.  The training data set may be biased in that its outcomes may be biased towards particular kinds of instances.  The algorithm that creates the model may be biased in that it may generate models that are weighted towards particular features in the input. The test data set may be biased in that it has expectations on correct answers that may be biased.  These three points in the machine learning process represent points for testing and mitigating bias.  In AI Fairness 360 codebase, we call these points *pre-processing*, *in-processing*, and *post-processing*. \n",
    "\n",
    "### AI Fairness 360\n",
    "We are now ready to utilize AI Fairness 360 (`aif360`) to detect and mitigate bias.  We will use the German credit dataset, splitting it into a training and test dataset.  We will look for bias in the creation of a machine learning model to predict if an applicant should be given credit based on various features from a typical credit application.  The protected attribute will be \"Age\", with \"1\" (older than or equal to 25) and \"0\" (younger than 25) being the values for the privileged and unprivileged groups, respectively.\n",
    "For this first tutorial, we will check for bias in the initial training data, mitigate the bias, and recheck.  More sophisticated machine learning workflows are given in the author tutorials and demo notebooks in the codebase.\n",
    "\n",
    "Here are the steps involved\n",
    "#### Step 1: Write import statements\n",
    "#### Step 2: Set bias detection options, load dataset, and split between train and test\n",
    "#### Step 3: Compute fairness metric on original training dataset\n",
    "#### Step 4: Mitigate bias by transforming the original dataset\n",
    "#### Step 5: Compute fairness metric on transformed training dataset\n",
    "\n",
    "### Step 1 Import Statements\n",
    "As with any python program, the first step will be to import the necessary packages.  Below we import several components from the `aif360` package.  We import the GermanDataset, metrics to check for bias, and classes related to the algorithm we will use to mitigate bias."
   ]
  },
  {
   "cell_type": "code",
   "execution_count": 9,
   "metadata": {},
   "outputs": [
    {
     "name": "stdout",
     "output_type": "stream",
     "text": [
      "Defaulting to user installation because normal site-packages is not writeable\n",
      "Requirement already satisfied: fairlearn in /home/ema53/.local/lib/python3.8/site-packages (0.7.0)\n",
      "Requirement already satisfied: numpy>=1.17.2 in /opt/anaconda3/lib/python3.8/site-packages (from fairlearn) (1.22.1)\n",
      "Requirement already satisfied: scipy>=1.4.1 in /opt/anaconda3/lib/python3.8/site-packages (from fairlearn) (1.5.0)\n",
      "Requirement already satisfied: pandas>=0.25.1 in /opt/anaconda3/lib/python3.8/site-packages (from fairlearn) (1.0.5)\n",
      "Requirement already satisfied: scikit-learn>=0.22.1 in /opt/anaconda3/lib/python3.8/site-packages (from fairlearn) (0.23.1)\n",
      "Requirement already satisfied: python-dateutil>=2.6.1 in /opt/anaconda3/lib/python3.8/site-packages (from pandas>=0.25.1->fairlearn) (2.8.1)\n",
      "Requirement already satisfied: pytz>=2017.2 in /opt/anaconda3/lib/python3.8/site-packages (from pandas>=0.25.1->fairlearn) (2020.1)\n",
      "Requirement already satisfied: joblib>=0.11 in /opt/anaconda3/lib/python3.8/site-packages (from scikit-learn>=0.22.1->fairlearn) (0.16.0)\n",
      "Requirement already satisfied: threadpoolctl>=2.0.0 in /opt/anaconda3/lib/python3.8/site-packages (from scikit-learn>=0.22.1->fairlearn) (2.1.0)\n",
      "Requirement already satisfied: six>=1.5 in /opt/anaconda3/lib/python3.8/site-packages (from python-dateutil>=2.6.1->pandas>=0.25.1->fairlearn) (1.16.0)\n"
     ]
    }
   ],
   "source": [
    "# Installing aif360 and fairlearn packages\n",
    "# !pip install fairlearn"
   ]
  },
  {
   "cell_type": "code",
   "execution_count": 15,
   "metadata": {},
   "outputs": [],
   "source": [
    "# Load all necessary packages\n",
    "import sys\n",
    "sys.path.insert(1, \"../\")  \n",
    "\n",
    "import numpy as np\n",
    "np.random.seed(0)\n",
    "\n",
    "from aif360.datasets import GermanDataset\n",
    "from aif360.metrics import BinaryLabelDatasetMetric\n",
    "from aif360.algorithms.preprocessing import Reweighing\n",
    "\n",
    "from IPython.display import Markdown, display"
   ]
  },
  {
   "cell_type": "markdown",
   "metadata": {},
   "source": [
    "### Step 2 Load dataset, specifying protected attribute, and split dataset into train and test\n",
    "In Step 2 we load the initial dataset, setting the protected attribute to be age.  We then splits the original dataset into training and testing datasets.  Although we will use only  the training dataset in this tutorial, a normal workflow would also use a test dataset for assessing the efficacy (accuracy, fairness, etc.) during the development of a machine learning model.  Finally, we set two variables (to be used in Step 3) for the privileged (1) and unprivileged (0) values for the age attribute.  These are key inputs for detecting and mitigating bias, which will be Step 3 and Step 4.  "
   ]
  },
  {
   "cell_type": "code",
   "execution_count": 16,
   "metadata": {},
   "outputs": [],
   "source": [
    "dataset_orig = GermanDataset(\n",
    "    protected_attribute_names=['age'],           # this dataset also contains protected\n",
    "                                                 # attribute for \"sex\" which we do not\n",
    "                                                 # consider in this evaluation\n",
    "    privileged_classes=[lambda x: x >= 25],      # age >=25 is considered privileged\n",
    "    features_to_drop=['personal_status', 'sex'] # ignore sex-related attributes\n",
    ")\n",
    "\n",
    "dataset_orig_train, dataset_orig_test = dataset_orig.split([0.7], shuffle=True)\n",
    "\n",
    "privileged_groups = [{'age': 1}]\n",
    "unprivileged_groups = [{'age': 0}]"
   ]
  },
  {
   "cell_type": "markdown",
   "metadata": {},
   "source": [
    "### Step 3 Compute fairness metric on original training dataset\n",
    "Now that we've identified the protected attribute 'age' and defined privileged and unprivileged values, we can use aif360 to detect bias in the dataset.  One simple test is to compare the percentage of favorable results for the privileged and unprivileged groups, subtracting the former percentage from the latter.   A negative value indicates less favorable outcomes for the unprivileged groups.  This is implemented in the method called mean_difference on the BinaryLabelDatasetMetric class.  The code below performs this check and displays the output, showing that the difference is -0.169905."
   ]
  },
  {
   "cell_type": "code",
   "execution_count": 17,
   "metadata": {},
   "outputs": [
    {
     "data": {
      "text/markdown": [
       "#### Original training dataset"
      ],
      "text/plain": [
       "<IPython.core.display.Markdown object>"
      ]
     },
     "metadata": {},
     "output_type": "display_data"
    },
    {
     "name": "stdout",
     "output_type": "stream",
     "text": [
      "Difference in mean outcomes between unprivileged and privileged groups = -0.169905\n"
     ]
    }
   ],
   "source": [
    "metric_orig_train = BinaryLabelDatasetMetric(dataset_orig_train, \n",
    "                                             unprivileged_groups=unprivileged_groups,\n",
    "                                             privileged_groups=privileged_groups)\n",
    "display(Markdown(\"#### Original training dataset\"))\n",
    "print(\"Difference in mean outcomes between unprivileged and privileged groups = %f\" % metric_orig_train.mean_difference())"
   ]
  },
  {
   "cell_type": "markdown",
   "metadata": {},
   "source": [
    "### Step 4 Mitigate bias by transforming the original dataset\n",
    "The previous step showed that the privileged group was getting 17% more positive outcomes in the training dataset.   Since this is not desirable, we are going to try to mitigate this bias in the training dataset.  As stated above, this is called _pre-processing_ mitigation because it happens before the creation of the model.  \n",
    "\n",
    "AI Fairness 360 implements several pre-processing mitigation algorithms.  We will choose the Reweighing algorithm [1], which is implemented in the `Reweighing` class in the `aif360.algorithms.preprocessing` package.  This algorithm will transform the dataset to have more equity in positive outcomes on the protected attribute for the privileged and unprivileged groups.\n",
    "\n",
    "We then call the fit and transform methods to perform the transformation, producing a newly transformed training dataset (dataset_transf_train).\n",
    "\n",
    "`[1] F. Kamiran and T. Calders,  \"Data Preprocessing Techniques for Classification without Discrimination,\" Knowledge and Information Systems, 2012.`"
   ]
  },
  {
   "cell_type": "code",
   "execution_count": 18,
   "metadata": {
    "collapsed": true
   },
   "outputs": [
    {
     "data": {
      "text/plain": [
       "array([0.96229508, 0.96229508, 0.96229508, 0.96229508, 0.96229508,\n",
       "       0.96229508, 0.96229508, 0.96229508, 1.25555556, 0.678     ,\n",
       "       1.100625  , 1.100625  , 0.96229508, 0.96229508, 1.100625  ,\n",
       "       0.96229508, 1.25555556, 1.100625  , 0.96229508, 0.96229508,\n",
       "       0.96229508, 0.96229508, 0.96229508, 0.96229508, 0.96229508,\n",
       "       1.100625  , 0.96229508, 0.96229508, 0.96229508, 0.678     ,\n",
       "       0.96229508, 0.96229508, 0.678     , 1.100625  , 0.96229508,\n",
       "       0.678     , 0.96229508, 0.96229508, 1.100625  , 0.96229508,\n",
       "       1.100625  , 0.96229508, 0.96229508, 1.25555556, 0.96229508,\n",
       "       0.678     , 1.100625  , 0.96229508, 0.96229508, 1.25555556,\n",
       "       1.100625  , 1.100625  , 0.96229508, 0.96229508, 1.100625  ,\n",
       "       0.96229508, 0.96229508, 0.96229508, 0.96229508, 0.96229508,\n",
       "       1.100625  , 0.96229508, 0.96229508, 0.96229508, 0.96229508,\n",
       "       0.96229508, 0.96229508, 1.100625  , 0.678     , 0.96229508,\n",
       "       0.96229508, 0.96229508, 0.96229508, 0.96229508, 1.25555556,\n",
       "       1.100625  , 0.96229508, 1.100625  , 1.100625  , 0.96229508,\n",
       "       0.96229508, 0.96229508, 1.25555556, 0.96229508, 0.96229508,\n",
       "       0.96229508, 0.678     , 0.96229508, 0.96229508, 0.96229508,\n",
       "       0.96229508, 0.96229508, 0.96229508, 0.96229508, 0.96229508,\n",
       "       1.100625  , 0.96229508, 0.96229508, 1.25555556, 0.96229508,\n",
       "       0.96229508, 1.25555556, 0.96229508, 0.96229508, 0.96229508,\n",
       "       0.96229508, 0.96229508, 1.100625  , 1.100625  , 0.96229508,\n",
       "       0.96229508, 1.100625  , 1.100625  , 1.25555556, 0.96229508,\n",
       "       0.96229508, 1.100625  , 0.96229508, 0.96229508, 1.25555556,\n",
       "       1.100625  , 0.96229508, 1.25555556, 1.100625  , 0.96229508,\n",
       "       0.96229508, 1.25555556, 0.96229508, 0.96229508, 0.96229508,\n",
       "       0.678     , 0.96229508, 0.678     , 0.96229508, 0.96229508,\n",
       "       1.100625  , 0.96229508, 0.96229508, 0.96229508, 0.96229508,\n",
       "       1.25555556, 0.96229508, 0.96229508, 0.678     , 1.100625  ,\n",
       "       1.100625  , 0.96229508, 0.96229508, 1.100625  , 0.96229508,\n",
       "       0.96229508, 0.96229508, 0.96229508, 1.100625  , 0.96229508,\n",
       "       0.96229508, 1.100625  , 0.96229508, 0.96229508, 0.96229508,\n",
       "       1.100625  , 0.96229508, 0.96229508, 1.100625  , 1.100625  ,\n",
       "       1.100625  , 1.100625  , 0.96229508, 1.100625  , 0.96229508,\n",
       "       0.96229508, 1.25555556, 0.96229508, 1.100625  , 0.96229508,\n",
       "       0.678     , 1.100625  , 1.100625  , 0.96229508, 1.25555556,\n",
       "       0.96229508, 0.96229508, 0.96229508, 1.100625  , 0.96229508,\n",
       "       0.678     , 0.96229508, 0.96229508, 0.96229508, 0.96229508,\n",
       "       1.100625  , 1.100625  , 1.100625  , 0.96229508, 0.96229508,\n",
       "       0.96229508, 0.678     , 0.96229508, 1.100625  , 0.96229508,\n",
       "       0.96229508, 1.100625  , 0.678     , 1.100625  , 1.25555556,\n",
       "       0.96229508, 1.100625  , 0.96229508, 0.96229508, 0.96229508,\n",
       "       1.100625  , 0.96229508, 1.100625  , 0.96229508, 0.96229508,\n",
       "       1.25555556, 0.96229508, 0.96229508, 0.96229508, 0.678     ,\n",
       "       0.678     , 0.96229508, 1.25555556, 0.96229508, 0.96229508,\n",
       "       0.96229508, 1.25555556, 1.100625  , 1.100625  , 1.25555556,\n",
       "       0.96229508, 0.678     , 1.100625  , 0.96229508, 1.100625  ,\n",
       "       1.25555556, 0.96229508, 0.96229508, 0.96229508, 1.100625  ,\n",
       "       1.100625  , 0.96229508, 0.96229508, 1.100625  , 0.96229508,\n",
       "       0.96229508, 0.96229508, 0.96229508, 0.96229508, 0.96229508,\n",
       "       0.96229508, 0.96229508, 0.96229508, 0.96229508, 0.96229508,\n",
       "       0.96229508, 0.96229508, 0.96229508, 0.96229508, 0.96229508,\n",
       "       0.96229508, 0.96229508, 1.25555556, 0.96229508, 0.96229508,\n",
       "       1.100625  , 0.96229508, 0.678     , 0.96229508, 1.100625  ,\n",
       "       1.100625  , 1.100625  , 0.96229508, 0.96229508, 0.96229508,\n",
       "       0.96229508, 0.96229508, 0.96229508, 1.100625  , 1.100625  ,\n",
       "       0.96229508, 0.96229508, 0.96229508, 0.96229508, 1.100625  ,\n",
       "       1.25555556, 0.96229508, 0.96229508, 0.96229508, 0.96229508,\n",
       "       0.96229508, 0.96229508, 1.25555556, 0.96229508, 1.100625  ,\n",
       "       1.25555556, 0.678     , 0.96229508, 1.100625  , 1.100625  ,\n",
       "       1.100625  , 1.100625  , 0.96229508, 0.96229508, 0.96229508,\n",
       "       1.25555556, 1.100625  , 1.100625  , 1.100625  , 0.96229508,\n",
       "       1.100625  , 1.100625  , 0.96229508, 0.96229508, 1.25555556,\n",
       "       0.96229508, 1.25555556, 0.96229508, 0.96229508, 0.96229508,\n",
       "       0.96229508, 0.96229508, 0.96229508, 1.100625  , 0.96229508,\n",
       "       1.100625  , 0.96229508, 1.100625  , 0.96229508, 0.96229508,\n",
       "       0.96229508, 0.96229508, 0.96229508, 0.96229508, 0.96229508,\n",
       "       0.96229508, 1.100625  , 0.96229508, 1.100625  , 1.25555556,\n",
       "       1.100625  , 0.96229508, 0.678     , 1.25555556, 0.96229508,\n",
       "       0.678     , 1.100625  , 0.96229508, 1.100625  , 1.100625  ,\n",
       "       0.96229508, 0.96229508, 0.96229508, 0.96229508, 0.96229508,\n",
       "       0.96229508, 0.96229508, 1.100625  , 1.100625  , 1.25555556,\n",
       "       1.25555556, 0.96229508, 1.100625  , 1.100625  , 0.96229508,\n",
       "       0.96229508, 1.100625  , 0.96229508, 1.100625  , 0.678     ,\n",
       "       0.96229508, 1.100625  , 0.96229508, 1.25555556, 0.96229508,\n",
       "       1.100625  , 0.678     , 0.96229508, 0.96229508, 0.96229508,\n",
       "       0.678     , 1.25555556, 0.96229508, 1.25555556, 0.678     ,\n",
       "       1.100625  , 1.100625  , 0.96229508, 0.96229508, 0.678     ,\n",
       "       0.96229508, 0.96229508, 0.96229508, 0.96229508, 1.100625  ,\n",
       "       0.96229508, 0.96229508, 0.678     , 1.25555556, 1.100625  ,\n",
       "       0.96229508, 0.96229508, 0.678     , 0.96229508, 0.96229508,\n",
       "       1.100625  , 1.100625  , 0.96229508, 1.100625  , 1.100625  ,\n",
       "       0.96229508, 0.96229508, 0.96229508, 0.96229508, 0.96229508,\n",
       "       0.96229508, 0.96229508, 0.96229508, 0.96229508, 0.678     ,\n",
       "       0.96229508, 0.96229508, 0.96229508, 1.25555556, 0.96229508,\n",
       "       0.96229508, 0.96229508, 0.678     , 0.96229508, 1.100625  ,\n",
       "       0.96229508, 0.96229508, 0.96229508, 0.96229508, 0.96229508,\n",
       "       0.96229508, 1.100625  , 0.96229508, 1.100625  , 0.678     ,\n",
       "       0.96229508, 0.96229508, 0.96229508, 0.96229508, 0.96229508,\n",
       "       0.96229508, 0.96229508, 1.25555556, 0.678     , 1.100625  ,\n",
       "       0.96229508, 1.100625  , 0.96229508, 1.100625  , 0.96229508,\n",
       "       1.25555556, 0.96229508, 0.96229508, 1.25555556, 1.100625  ,\n",
       "       1.100625  , 1.100625  , 0.96229508, 0.96229508, 0.96229508,\n",
       "       0.96229508, 1.25555556, 0.96229508, 0.96229508, 0.678     ,\n",
       "       1.100625  , 0.96229508, 0.96229508, 0.96229508, 0.96229508,\n",
       "       0.96229508, 1.25555556, 1.100625  , 0.96229508, 0.96229508,\n",
       "       0.96229508, 1.25555556, 0.96229508, 0.96229508, 1.100625  ,\n",
       "       0.96229508, 1.100625  , 1.25555556, 0.96229508, 1.100625  ,\n",
       "       1.25555556, 0.96229508, 1.100625  , 0.96229508, 0.96229508,\n",
       "       1.100625  , 1.100625  , 0.96229508, 0.96229508, 1.100625  ,\n",
       "       1.100625  , 0.96229508, 0.96229508, 0.96229508, 0.678     ,\n",
       "       0.96229508, 0.96229508, 0.96229508, 1.100625  , 0.96229508,\n",
       "       0.96229508, 0.96229508, 0.96229508, 1.25555556, 0.96229508,\n",
       "       0.96229508, 0.96229508, 0.96229508, 0.96229508, 0.96229508,\n",
       "       0.96229508, 1.100625  , 1.100625  , 0.96229508, 0.96229508,\n",
       "       0.96229508, 1.25555556, 0.96229508, 0.96229508, 0.96229508,\n",
       "       0.96229508, 1.100625  , 0.96229508, 0.96229508, 1.25555556,\n",
       "       0.96229508, 1.100625  , 1.100625  , 0.96229508, 0.96229508,\n",
       "       1.25555556, 0.96229508, 0.96229508, 0.96229508, 0.96229508,\n",
       "       0.678     , 0.96229508, 1.100625  , 1.25555556, 0.96229508,\n",
       "       0.96229508, 0.96229508, 1.25555556, 0.678     , 0.96229508,\n",
       "       0.96229508, 1.25555556, 0.678     , 0.96229508, 0.96229508,\n",
       "       0.96229508, 0.96229508, 0.96229508, 0.96229508, 1.100625  ,\n",
       "       0.96229508, 0.678     , 1.100625  , 1.100625  , 1.100625  ,\n",
       "       0.96229508, 1.100625  , 0.96229508, 1.100625  , 0.96229508,\n",
       "       0.96229508, 0.96229508, 0.96229508, 0.678     , 1.100625  ,\n",
       "       0.96229508, 0.96229508, 0.678     , 1.25555556, 0.96229508,\n",
       "       0.96229508, 0.96229508, 1.100625  , 0.96229508, 1.100625  ,\n",
       "       1.100625  , 0.96229508, 0.678     , 0.96229508, 0.96229508,\n",
       "       1.100625  , 0.96229508, 0.96229508, 0.96229508, 0.96229508,\n",
       "       1.100625  , 0.96229508, 0.678     , 1.100625  , 1.100625  ,\n",
       "       0.678     , 0.96229508, 1.100625  , 0.96229508, 0.678     ,\n",
       "       0.96229508, 1.25555556, 0.678     , 1.25555556, 0.96229508,\n",
       "       0.96229508, 0.96229508, 1.100625  , 0.96229508, 0.96229508,\n",
       "       1.100625  , 1.100625  , 0.96229508, 0.96229508, 0.96229508,\n",
       "       0.96229508, 0.96229508, 0.96229508, 0.96229508, 1.100625  ,\n",
       "       0.96229508, 0.96229508, 0.96229508, 0.96229508, 0.96229508,\n",
       "       0.678     , 1.25555556, 0.96229508, 0.96229508, 0.96229508,\n",
       "       0.96229508, 0.96229508, 0.96229508, 0.678     , 0.96229508,\n",
       "       0.96229508, 1.100625  , 0.678     , 1.100625  , 1.100625  ,\n",
       "       1.25555556, 0.96229508, 0.96229508, 0.96229508, 0.96229508,\n",
       "       0.96229508, 1.100625  , 0.96229508, 0.96229508, 1.100625  ,\n",
       "       1.100625  , 0.96229508, 0.96229508, 0.96229508, 0.96229508,\n",
       "       1.100625  , 0.96229508, 1.25555556, 1.100625  , 0.96229508,\n",
       "       0.678     , 0.96229508, 1.25555556, 0.96229508, 0.96229508,\n",
       "       0.678     , 1.25555556, 1.25555556, 0.96229508, 0.96229508,\n",
       "       0.96229508, 1.100625  , 0.96229508, 1.100625  , 0.96229508,\n",
       "       1.100625  , 1.100625  , 1.100625  , 1.100625  , 0.96229508,\n",
       "       0.96229508, 1.100625  , 1.100625  , 0.96229508, 0.96229508,\n",
       "       0.96229508, 1.25555556, 1.25555556, 0.96229508, 0.96229508])"
      ]
     },
     "execution_count": 18,
     "metadata": {},
     "output_type": "execute_result"
    }
   ],
   "source": [
    "RW = Reweighing(unprivileged_groups=unprivileged_groups,\n",
    "                privileged_groups=privileged_groups)\n",
    "dataset_transf_train = RW.fit_transform(dataset_orig_train)\n",
    "dataset_transf_train.instance_weights"
   ]
  },
  {
   "cell_type": "markdown",
   "metadata": {},
   "source": [
    "### Step 5 Compute fairness metric on transformed dataset\n",
    "Now that we have a transformed dataset, we can check how effective it was in removing bias by using the same metric we used for the original training dataset in Step 3.  Once again, we use the function mean_difference in the BinaryLabelDatasetMetric class.   We see the mitigation step was very effective, the difference in mean outcomes is now 0.0.  So we went from a 17% advantage for the privileged group to equality in terms of mean outcome."
   ]
  },
  {
   "cell_type": "code",
   "execution_count": 19,
   "metadata": {},
   "outputs": [
    {
     "data": {
      "text/markdown": [
       "#### Transformed training dataset"
      ],
      "text/plain": [
       "<IPython.core.display.Markdown object>"
      ]
     },
     "metadata": {},
     "output_type": "display_data"
    },
    {
     "name": "stdout",
     "output_type": "stream",
     "text": [
      "Difference in mean outcomes between unprivileged and privileged groups = 0.000000\n"
     ]
    }
   ],
   "source": [
    "metric_transf_train = BinaryLabelDatasetMetric(dataset_transf_train, \n",
    "                                               unprivileged_groups=unprivileged_groups,\n",
    "                                               privileged_groups=privileged_groups)\n",
    "display(Markdown(\"#### Transformed training dataset\"))\n",
    "print(\"Difference in mean outcomes between unprivileged and privileged groups = %f\" % metric_transf_train.mean_difference())"
   ]
  },
  {
   "cell_type": "markdown",
   "metadata": {},
   "source": [
    "## Task 2. Assess and mitigate bias on the Titanic Dataset\n",
    "\n",
    "[Titanic](https://www.kaggle.com/c/titanic) is a famous competition in Kaggle. However, Titanic models typically rely too heavily on sex as a feature. Your goal in this task is to apply the same procedure above to the titanic dataset (Step 1-5) and compare the accuracy of an original model and the \"fair\" model (Step 6).\n",
    "\n"
   ]
  },
  {
   "cell_type": "markdown",
   "metadata": {},
   "source": [
    "### Repeat \"Step 1-5\" on the Titanic dataset\n",
    "Please note that `sex` (rather than `age`) is the protected attribute.\n",
    "\n",
    "* Step 1: Write import statements\n",
    "* Step 2: Set bias detection options, load dataset, and split between train and test\n",
    "* Step 3: Compute fairness metric on original training dataset\n",
    "* Step 4: Mitigate bias by transforming the original dataset\n",
    "* Step 5: Compute fairness metric on transformed training dataset"
   ]
  },
  {
   "cell_type": "code",
   "execution_count": 20,
   "metadata": {},
   "outputs": [],
   "source": [
    "## Import Statements\n",
    "import pandas as pd\n",
    "from sklearn.model_selection import train_test_split\n",
    "from sklearn.linear_model import LogisticRegression\n",
    "from aif360.datasets import BinaryLabelDataset\n",
    "from sklearn.metrics import accuracy_score"
   ]
  },
  {
   "cell_type": "code",
   "execution_count": 21,
   "metadata": {},
   "outputs": [
    {
     "data": {
      "text/html": [
       "<div>\n",
       "<style scoped>\n",
       "    .dataframe tbody tr th:only-of-type {\n",
       "        vertical-align: middle;\n",
       "    }\n",
       "\n",
       "    .dataframe tbody tr th {\n",
       "        vertical-align: top;\n",
       "    }\n",
       "\n",
       "    .dataframe thead th {\n",
       "        text-align: right;\n",
       "    }\n",
       "</style>\n",
       "<table border=\"1\" class=\"dataframe\">\n",
       "  <thead>\n",
       "    <tr style=\"text-align: right;\">\n",
       "      <th></th>\n",
       "      <th>PassengerId</th>\n",
       "      <th>Survived</th>\n",
       "      <th>Pclass</th>\n",
       "      <th>Name</th>\n",
       "      <th>Sex</th>\n",
       "      <th>Age</th>\n",
       "      <th>SibSp</th>\n",
       "      <th>Parch</th>\n",
       "      <th>Ticket</th>\n",
       "      <th>Fare</th>\n",
       "      <th>Cabin</th>\n",
       "      <th>Embarked</th>\n",
       "    </tr>\n",
       "  </thead>\n",
       "  <tbody>\n",
       "    <tr>\n",
       "      <th>0</th>\n",
       "      <td>1</td>\n",
       "      <td>0</td>\n",
       "      <td>3</td>\n",
       "      <td>Braund, Mr. Owen Harris</td>\n",
       "      <td>male</td>\n",
       "      <td>22.0</td>\n",
       "      <td>1</td>\n",
       "      <td>0</td>\n",
       "      <td>A/5 21171</td>\n",
       "      <td>7.2500</td>\n",
       "      <td>NaN</td>\n",
       "      <td>S</td>\n",
       "    </tr>\n",
       "    <tr>\n",
       "      <th>1</th>\n",
       "      <td>2</td>\n",
       "      <td>1</td>\n",
       "      <td>1</td>\n",
       "      <td>Cumings, Mrs. John Bradley (Florence Briggs Th...</td>\n",
       "      <td>female</td>\n",
       "      <td>38.0</td>\n",
       "      <td>1</td>\n",
       "      <td>0</td>\n",
       "      <td>PC 17599</td>\n",
       "      <td>71.2833</td>\n",
       "      <td>C85</td>\n",
       "      <td>C</td>\n",
       "    </tr>\n",
       "    <tr>\n",
       "      <th>2</th>\n",
       "      <td>3</td>\n",
       "      <td>1</td>\n",
       "      <td>3</td>\n",
       "      <td>Heikkinen, Miss. Laina</td>\n",
       "      <td>female</td>\n",
       "      <td>26.0</td>\n",
       "      <td>0</td>\n",
       "      <td>0</td>\n",
       "      <td>STON/O2. 3101282</td>\n",
       "      <td>7.9250</td>\n",
       "      <td>NaN</td>\n",
       "      <td>S</td>\n",
       "    </tr>\n",
       "    <tr>\n",
       "      <th>3</th>\n",
       "      <td>4</td>\n",
       "      <td>1</td>\n",
       "      <td>1</td>\n",
       "      <td>Futrelle, Mrs. Jacques Heath (Lily May Peel)</td>\n",
       "      <td>female</td>\n",
       "      <td>35.0</td>\n",
       "      <td>1</td>\n",
       "      <td>0</td>\n",
       "      <td>113803</td>\n",
       "      <td>53.1000</td>\n",
       "      <td>C123</td>\n",
       "      <td>S</td>\n",
       "    </tr>\n",
       "    <tr>\n",
       "      <th>4</th>\n",
       "      <td>5</td>\n",
       "      <td>0</td>\n",
       "      <td>3</td>\n",
       "      <td>Allen, Mr. William Henry</td>\n",
       "      <td>male</td>\n",
       "      <td>35.0</td>\n",
       "      <td>0</td>\n",
       "      <td>0</td>\n",
       "      <td>373450</td>\n",
       "      <td>8.0500</td>\n",
       "      <td>NaN</td>\n",
       "      <td>S</td>\n",
       "    </tr>\n",
       "    <tr>\n",
       "      <th>5</th>\n",
       "      <td>6</td>\n",
       "      <td>0</td>\n",
       "      <td>3</td>\n",
       "      <td>Moran, Mr. James</td>\n",
       "      <td>male</td>\n",
       "      <td>NaN</td>\n",
       "      <td>0</td>\n",
       "      <td>0</td>\n",
       "      <td>330877</td>\n",
       "      <td>8.4583</td>\n",
       "      <td>NaN</td>\n",
       "      <td>Q</td>\n",
       "    </tr>\n",
       "    <tr>\n",
       "      <th>6</th>\n",
       "      <td>7</td>\n",
       "      <td>0</td>\n",
       "      <td>1</td>\n",
       "      <td>McCarthy, Mr. Timothy J</td>\n",
       "      <td>male</td>\n",
       "      <td>54.0</td>\n",
       "      <td>0</td>\n",
       "      <td>0</td>\n",
       "      <td>17463</td>\n",
       "      <td>51.8625</td>\n",
       "      <td>E46</td>\n",
       "      <td>S</td>\n",
       "    </tr>\n",
       "    <tr>\n",
       "      <th>7</th>\n",
       "      <td>8</td>\n",
       "      <td>0</td>\n",
       "      <td>3</td>\n",
       "      <td>Palsson, Master. Gosta Leonard</td>\n",
       "      <td>male</td>\n",
       "      <td>2.0</td>\n",
       "      <td>3</td>\n",
       "      <td>1</td>\n",
       "      <td>349909</td>\n",
       "      <td>21.0750</td>\n",
       "      <td>NaN</td>\n",
       "      <td>S</td>\n",
       "    </tr>\n",
       "    <tr>\n",
       "      <th>8</th>\n",
       "      <td>9</td>\n",
       "      <td>1</td>\n",
       "      <td>3</td>\n",
       "      <td>Johnson, Mrs. Oscar W (Elisabeth Vilhelmina Berg)</td>\n",
       "      <td>female</td>\n",
       "      <td>27.0</td>\n",
       "      <td>0</td>\n",
       "      <td>2</td>\n",
       "      <td>347742</td>\n",
       "      <td>11.1333</td>\n",
       "      <td>NaN</td>\n",
       "      <td>S</td>\n",
       "    </tr>\n",
       "    <tr>\n",
       "      <th>9</th>\n",
       "      <td>10</td>\n",
       "      <td>1</td>\n",
       "      <td>2</td>\n",
       "      <td>Nasser, Mrs. Nicholas (Adele Achem)</td>\n",
       "      <td>female</td>\n",
       "      <td>14.0</td>\n",
       "      <td>1</td>\n",
       "      <td>0</td>\n",
       "      <td>237736</td>\n",
       "      <td>30.0708</td>\n",
       "      <td>NaN</td>\n",
       "      <td>C</td>\n",
       "    </tr>\n",
       "  </tbody>\n",
       "</table>\n",
       "</div>"
      ],
      "text/plain": [
       "   PassengerId  Survived  Pclass  \\\n",
       "0            1         0       3   \n",
       "1            2         1       1   \n",
       "2            3         1       3   \n",
       "3            4         1       1   \n",
       "4            5         0       3   \n",
       "5            6         0       3   \n",
       "6            7         0       1   \n",
       "7            8         0       3   \n",
       "8            9         1       3   \n",
       "9           10         1       2   \n",
       "\n",
       "                                                Name     Sex   Age  SibSp  \\\n",
       "0                            Braund, Mr. Owen Harris    male  22.0      1   \n",
       "1  Cumings, Mrs. John Bradley (Florence Briggs Th...  female  38.0      1   \n",
       "2                             Heikkinen, Miss. Laina  female  26.0      0   \n",
       "3       Futrelle, Mrs. Jacques Heath (Lily May Peel)  female  35.0      1   \n",
       "4                           Allen, Mr. William Henry    male  35.0      0   \n",
       "5                                   Moran, Mr. James    male   NaN      0   \n",
       "6                            McCarthy, Mr. Timothy J    male  54.0      0   \n",
       "7                     Palsson, Master. Gosta Leonard    male   2.0      3   \n",
       "8  Johnson, Mrs. Oscar W (Elisabeth Vilhelmina Berg)  female  27.0      0   \n",
       "9                Nasser, Mrs. Nicholas (Adele Achem)  female  14.0      1   \n",
       "\n",
       "   Parch            Ticket     Fare Cabin Embarked  \n",
       "0      0         A/5 21171   7.2500   NaN        S  \n",
       "1      0          PC 17599  71.2833   C85        C  \n",
       "2      0  STON/O2. 3101282   7.9250   NaN        S  \n",
       "3      0            113803  53.1000  C123        S  \n",
       "4      0            373450   8.0500   NaN        S  \n",
       "5      0            330877   8.4583   NaN        Q  \n",
       "6      0             17463  51.8625   E46        S  \n",
       "7      1            349909  21.0750   NaN        S  \n",
       "8      2            347742  11.1333   NaN        S  \n",
       "9      0            237736  30.0708   NaN        C  "
      ]
     },
     "execution_count": 21,
     "metadata": {},
     "output_type": "execute_result"
    }
   ],
   "source": [
    "# Import titanic dataset which was downloaded and saved in Kaggle\n",
    "titanic = pd.read_csv('train.csv')\n",
    "titanic.head(10)"
   ]
  },
  {
   "cell_type": "code",
   "execution_count": 3,
   "metadata": {},
   "outputs": [
    {
     "data": {
      "text/plain": [
       "PassengerId      0\n",
       "Survived         0\n",
       "Pclass           0\n",
       "Name             0\n",
       "Sex              0\n",
       "Age            177\n",
       "SibSp            0\n",
       "Parch            0\n",
       "Ticket           0\n",
       "Fare             0\n",
       "Cabin          687\n",
       "Embarked         2\n",
       "dtype: int64"
      ]
     },
     "execution_count": 3,
     "metadata": {},
     "output_type": "execute_result"
    }
   ],
   "source": [
    "# Checking Null values\n",
    "titanic.isnull().sum()"
   ]
  },
  {
   "cell_type": "code",
   "execution_count": 22,
   "metadata": {},
   "outputs": [
    {
     "name": "stderr",
     "output_type": "stream",
     "text": [
      "Dropping of nuisance columns in DataFrame reductions (with 'numeric_only=None') is deprecated; in a future version this will raise TypeError.  Select only valid columns before calling the reduction.\n"
     ]
    }
   ],
   "source": [
    "# Data Preprocessing\n",
    "Sex_dict = {'male':0, 'female':1}\n",
    "titanic[\"Sex\"] = titanic[\"Sex\"].replace(Sex_dict)\n",
    "titanic[['Age','Cabin']] = titanic[['Age','Cabin']].fillna(titanic.mean())\n",
    "titanic.drop(columns=['Name', 'Ticket', 'PassengerId', 'Cabin'], inplace=True)\n",
    "titanic[\"Embarked\"] = titanic[\"Embarked\"].fillna(titanic[\"Embarked\"].mode()[0])\n",
    "\n",
    "# Input features and Output Labels data\n",
    "features = pd.get_dummies(titanic)\n",
    "ground_truth = features['Survived']\n",
    "features.drop(columns=['Survived'], inplace=True)"
   ]
  },
  {
   "cell_type": "code",
   "execution_count": 23,
   "metadata": {},
   "outputs": [
    {
     "data": {
      "text/markdown": [
       "#### Original training dataset"
      ],
      "text/plain": [
       "<IPython.core.display.Markdown object>"
      ]
     },
     "metadata": {},
     "output_type": "display_data"
    },
    {
     "name": "stdout",
     "output_type": "stream",
     "text": [
      "Difference in mean outcomes between unprivileged and privileged groups = -0.561027\n"
     ]
    }
   ],
   "source": [
    "# Train and Test split data\n",
    "X_train, X_test, y_train, y_test = train_test_split(features, ground_truth, test_size=0.25, random_state=0)\n",
    "comb_df = pd.concat((X_train, y_train), axis=1) \n",
    "\n",
    "# Converting to Binary Label dataset\n",
    "bld = BinaryLabelDataset(df=comb_df, label_names=['Survived'], protected_attribute_names=['Sex'], unfavorable_label=0,favorable_label=1)\n",
    "\n",
    "privileged_groups = [{'Sex': 1}]\n",
    "unprivileged_groups = [{'Sex': 0}]\n",
    "\n",
    "metric_orig_train = BinaryLabelDatasetMetric(bld, unprivileged_groups=unprivileged_groups, privileged_groups=privileged_groups)\n",
    "\n",
    "display(Markdown(\"#### Original training dataset\"))\n",
    "print(\"Difference in mean outcomes between unprivileged and privileged groups = %f\" % metric_orig_train.mean_difference())"
   ]
  },
  {
   "cell_type": "code",
   "execution_count": 24,
   "metadata": {},
   "outputs": [
    {
     "data": {
      "text/markdown": [
       "#### Transformed training dataset"
      ],
      "text/plain": [
       "<IPython.core.display.Markdown object>"
      ]
     },
     "metadata": {},
     "output_type": "display_data"
    },
    {
     "name": "stdout",
     "output_type": "stream",
     "text": [
      "Difference in mean outcomes between unprivileged and privileged groups = 0.000000\n"
     ]
    }
   ],
   "source": [
    "RW = Reweighing(unprivileged_groups=unprivileged_groups,\n",
    "                privileged_groups=privileged_groups)\n",
    "dataset_transf_train = RW.fit_transform(bld)\n",
    "\n",
    "metric_transf_train = BinaryLabelDatasetMetric(dataset_transf_train, unprivileged_groups=unprivileged_groups, privileged_groups=privileged_groups)\n",
    "                                               \n",
    "display(Markdown(\"#### Transformed training dataset\"))\n",
    "print(\"Difference in mean outcomes between unprivileged and privileged groups = %f\" % metric_transf_train.mean_difference())"
   ]
  },
  {
   "cell_type": "markdown",
   "metadata": {},
   "source": [
    "### Step 6 Compare the performance of the models"
   ]
  },
  {
   "cell_type": "markdown",
   "metadata": {},
   "source": [
    "Train two logistic regression models: one on the original training dataset and the other on the transformed dataset. Compare the accuracy of the two models on the same test dataset. Note that reweighting is only applied on the training data **not** on the test dataset."
   ]
  },
  {
   "cell_type": "code",
   "execution_count": 25,
   "metadata": {},
   "outputs": [
    {
     "name": "stdout",
     "output_type": "stream",
     "text": [
      "Original data model accuracy: 79.37219730941703\n",
      "weighted data model accuracy: 76.68161434977578\n"
     ]
    },
    {
     "name": "stderr",
     "output_type": "stream",
     "text": [
      "lbfgs failed to converge (status=1):\n",
      "STOP: TOTAL NO. of ITERATIONS REACHED LIMIT.\n",
      "\n",
      "Increase the number of iterations (max_iter) or scale the data as shown in:\n",
      "    https://scikit-learn.org/stable/modules/preprocessing.html\n",
      "Please also refer to the documentation for alternative solver options:\n",
      "    https://scikit-learn.org/stable/modules/linear_model.html#logistic-regression\n",
      "lbfgs failed to converge (status=1):\n",
      "STOP: TOTAL NO. of ITERATIONS REACHED LIMIT.\n",
      "\n",
      "Increase the number of iterations (max_iter) or scale the data as shown in:\n",
      "    https://scikit-learn.org/stable/modules/preprocessing.html\n",
      "Please also refer to the documentation for alternative solver options:\n",
      "    https://scikit-learn.org/stable/modules/linear_model.html#logistic-regression\n"
     ]
    }
   ],
   "source": [
    "# Logistic Regression on biased data and reweighted data\n",
    "lr1 = LogisticRegression()\n",
    "lr2 = LogisticRegression()\n",
    "\n",
    "model1 = lr1.fit(X_train, y_train)\n",
    "model2 = lr2.fit(X_train, y_train, sample_weight=dataset_transf_train.instance_weights)\n",
    "\n",
    "result1 = model1.predict(X_test).astype(int)\n",
    "result2 = model2.predict(X_test).astype(int)\n",
    "\n",
    "accuracy_score1 = accuracy_score(y_test.to_numpy(), result1)\n",
    "accuracy_score2 = accuracy_score(y_test.to_numpy(), result2)\n",
    "\n",
    "print(\"Original data model accuracy:\", accuracy_score1*100)\n",
    "print(\"weighted data model accuracy:\", accuracy_score2*100)\n"
   ]
  },
  {
   "cell_type": "markdown",
   "metadata": {},
   "source": [
    "## Submission"
   ]
  },
  {
   "cell_type": "markdown",
   "metadata": {},
   "source": [
    "Complete the code in A11-1.ipynb, and submit it to the CourSys activity Assignment 11."
   ]
  }
 ],
 "metadata": {
  "kernelspec": {
   "display_name": "py-gt",
   "language": "python",
   "name": "py-gt"
  },
  "language_info": {
   "codemirror_mode": {
    "name": "ipython",
    "version": 3
   },
   "file_extension": ".py",
   "mimetype": "text/x-python",
   "name": "python",
   "nbconvert_exporter": "python",
   "pygments_lexer": "ipython3",
   "version": "3.9.10"
  }
 },
 "nbformat": 4,
 "nbformat_minor": 2
}
